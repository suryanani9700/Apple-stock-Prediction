{
 "cells": [
  {
   "cell_type": "code",
   "execution_count": 1,
   "id": "46db4cde",
   "metadata": {},
   "outputs": [],
   "source": [
    "import pandas as pd\n",
    "import numpy as np\n",
    "import matplotlib.pyplot as plt\n",
    "import seaborn as sns\n"
   ]
  },
  {
   "cell_type": "code",
   "execution_count": null,
   "id": "b93deed1",
   "metadata": {},
   "outputs": [],
   "source": [
    "\n",
    "apple_cleaned_df = pd.read_csv('/Users/surya/Library/CloudStorage/GoogleDrive-venkatasuryakirannaidu.vakkalagadda@sjsu.edu/My Drive/Projects/Stock Market Prediction/Apple-stock-Prediction/Apple Cleaned Data.csv')"
   ]
  },
  {
   "cell_type": "code",
   "execution_count": 3,
   "id": "e41a2363",
   "metadata": {},
   "outputs": [
    {
     "data": {
      "text/html": [
       "<div>\n",
       "<style scoped>\n",
       "    .dataframe tbody tr th:only-of-type {\n",
       "        vertical-align: middle;\n",
       "    }\n",
       "\n",
       "    .dataframe tbody tr th {\n",
       "        vertical-align: top;\n",
       "    }\n",
       "\n",
       "    .dataframe thead th {\n",
       "        text-align: right;\n",
       "    }\n",
       "</style>\n",
       "<table border=\"1\" class=\"dataframe\">\n",
       "  <thead>\n",
       "    <tr style=\"text-align: right;\">\n",
       "      <th></th>\n",
       "      <th>Open</th>\n",
       "      <th>High</th>\n",
       "      <th>Low</th>\n",
       "      <th>Close</th>\n",
       "      <th>Volume</th>\n",
       "      <th>Dividends</th>\n",
       "      <th>Stock Splits</th>\n",
       "    </tr>\n",
       "  </thead>\n",
       "  <tbody>\n",
       "    <tr>\n",
       "      <th>0</th>\n",
       "      <td>40.226428</td>\n",
       "      <td>40.732332</td>\n",
       "      <td>40.013663</td>\n",
       "      <td>40.722874</td>\n",
       "      <td>102223600</td>\n",
       "      <td>0.0</td>\n",
       "      <td>0.0</td>\n",
       "    </tr>\n",
       "    <tr>\n",
       "      <th>1</th>\n",
       "      <td>40.786696</td>\n",
       "      <td>41.264232</td>\n",
       "      <td>40.651948</td>\n",
       "      <td>40.715775</td>\n",
       "      <td>118071600</td>\n",
       "      <td>0.0</td>\n",
       "      <td>0.0</td>\n",
       "    </tr>\n",
       "    <tr>\n",
       "      <th>2</th>\n",
       "      <td>40.789072</td>\n",
       "      <td>41.008929</td>\n",
       "      <td>40.680328</td>\n",
       "      <td>40.904911</td>\n",
       "      <td>89738400</td>\n",
       "      <td>0.0</td>\n",
       "      <td>0.0</td>\n",
       "    </tr>\n",
       "    <tr>\n",
       "      <th>3</th>\n",
       "      <td>41.001832</td>\n",
       "      <td>41.458089</td>\n",
       "      <td>40.909635</td>\n",
       "      <td>41.370621</td>\n",
       "      <td>94640000</td>\n",
       "      <td>0.0</td>\n",
       "      <td>0.0</td>\n",
       "    </tr>\n",
       "    <tr>\n",
       "      <th>4</th>\n",
       "      <td>41.216969</td>\n",
       "      <td>41.514836</td>\n",
       "      <td>41.117676</td>\n",
       "      <td>41.216969</td>\n",
       "      <td>82271200</td>\n",
       "      <td>0.0</td>\n",
       "      <td>0.0</td>\n",
       "    </tr>\n",
       "  </tbody>\n",
       "</table>\n",
       "</div>"
      ],
      "text/plain": [
       "        Open       High        Low      Close     Volume  Dividends  \\\n",
       "0  40.226428  40.732332  40.013663  40.722874  102223600        0.0   \n",
       "1  40.786696  41.264232  40.651948  40.715775  118071600        0.0   \n",
       "2  40.789072  41.008929  40.680328  40.904911   89738400        0.0   \n",
       "3  41.001832  41.458089  40.909635  41.370621   94640000        0.0   \n",
       "4  41.216969  41.514836  41.117676  41.216969   82271200        0.0   \n",
       "\n",
       "   Stock Splits  \n",
       "0           0.0  \n",
       "1           0.0  \n",
       "2           0.0  \n",
       "3           0.0  \n",
       "4           0.0  "
      ]
     },
     "execution_count": 3,
     "metadata": {},
     "output_type": "execute_result"
    }
   ],
   "source": [
    "apple_cleaned_df.head()"
   ]
  },
  {
   "cell_type": "code",
   "execution_count": null,
   "id": "7d5e1b47",
   "metadata": {},
   "outputs": [],
   "source": []
  }
 ],
 "metadata": {
  "kernelspec": {
   "display_name": "Tensorflow",
   "language": "python",
   "name": "tensorflow"
  },
  "language_info": {
   "codemirror_mode": {
    "name": "ipython",
    "version": 3
   },
   "file_extension": ".py",
   "mimetype": "text/x-python",
   "name": "python",
   "nbconvert_exporter": "python",
   "pygments_lexer": "ipython3",
   "version": "3.11.5"
  }
 },
 "nbformat": 4,
 "nbformat_minor": 5
}

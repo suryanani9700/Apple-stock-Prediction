{
 "cells": [
  {
   "cell_type": "code",
   "execution_count": 2,
   "id": "552344b3",
   "metadata": {},
   "outputs": [],
   "source": [
    "import yfinance as yb\n",
    "import pandas as pd"
   ]
  },
  {
   "cell_type": "code",
   "execution_count": 3,
   "id": "eb68cacc",
   "metadata": {},
   "outputs": [],
   "source": [
    "tickerSymbol = \"AAPL\"\n",
    "tickerData = yb.Ticker(tickerSymbol)\n",
    "start_date = '2018-01-01'\n",
    "end_date = '2023-11-11' \n",
    "apple_df = tickerData.history(period='1d', start=start_date, end=end_date)"
   ]
  },
  {
   "cell_type": "code",
   "execution_count": 4,
   "id": "c2a17862",
   "metadata": {},
   "outputs": [
    {
     "data": {
      "text/html": [
       "<div>\n",
       "<style scoped>\n",
       "    .dataframe tbody tr th:only-of-type {\n",
       "        vertical-align: middle;\n",
       "    }\n",
       "\n",
       "    .dataframe tbody tr th {\n",
       "        vertical-align: top;\n",
       "    }\n",
       "\n",
       "    .dataframe thead th {\n",
       "        text-align: right;\n",
       "    }\n",
       "</style>\n",
       "<table border=\"1\" class=\"dataframe\">\n",
       "  <thead>\n",
       "    <tr style=\"text-align: right;\">\n",
       "      <th></th>\n",
       "      <th>Open</th>\n",
       "      <th>High</th>\n",
       "      <th>Low</th>\n",
       "      <th>Close</th>\n",
       "      <th>Volume</th>\n",
       "      <th>Dividends</th>\n",
       "      <th>Stock Splits</th>\n",
       "    </tr>\n",
       "    <tr>\n",
       "      <th>Date</th>\n",
       "      <th></th>\n",
       "      <th></th>\n",
       "      <th></th>\n",
       "      <th></th>\n",
       "      <th></th>\n",
       "      <th></th>\n",
       "      <th></th>\n",
       "    </tr>\n",
       "  </thead>\n",
       "  <tbody>\n",
       "    <tr>\n",
       "      <th>2018-01-02 00:00:00-05:00</th>\n",
       "      <td>40.226425</td>\n",
       "      <td>40.732328</td>\n",
       "      <td>40.013659</td>\n",
       "      <td>40.722870</td>\n",
       "      <td>102223600</td>\n",
       "      <td>0.0</td>\n",
       "      <td>0.0</td>\n",
       "    </tr>\n",
       "    <tr>\n",
       "      <th>2018-01-03 00:00:00-05:00</th>\n",
       "      <td>40.786712</td>\n",
       "      <td>41.264248</td>\n",
       "      <td>40.651963</td>\n",
       "      <td>40.715790</td>\n",
       "      <td>118071600</td>\n",
       "      <td>0.0</td>\n",
       "      <td>0.0</td>\n",
       "    </tr>\n",
       "    <tr>\n",
       "      <th>2018-01-04 00:00:00-05:00</th>\n",
       "      <td>40.789064</td>\n",
       "      <td>41.008922</td>\n",
       "      <td>40.680321</td>\n",
       "      <td>40.904903</td>\n",
       "      <td>89738400</td>\n",
       "      <td>0.0</td>\n",
       "      <td>0.0</td>\n",
       "    </tr>\n",
       "    <tr>\n",
       "      <th>2018-01-05 00:00:00-05:00</th>\n",
       "      <td>41.001839</td>\n",
       "      <td>41.458097</td>\n",
       "      <td>40.909642</td>\n",
       "      <td>41.370628</td>\n",
       "      <td>94640000</td>\n",
       "      <td>0.0</td>\n",
       "      <td>0.0</td>\n",
       "    </tr>\n",
       "    <tr>\n",
       "      <th>2018-01-08 00:00:00-05:00</th>\n",
       "      <td>41.216961</td>\n",
       "      <td>41.514828</td>\n",
       "      <td>41.117668</td>\n",
       "      <td>41.216961</td>\n",
       "      <td>82271200</td>\n",
       "      <td>0.0</td>\n",
       "      <td>0.0</td>\n",
       "    </tr>\n",
       "  </tbody>\n",
       "</table>\n",
       "</div>"
      ],
      "text/plain": [
       "                                Open       High        Low      Close  \\\n",
       "Date                                                                    \n",
       "2018-01-02 00:00:00-05:00  40.226425  40.732328  40.013659  40.722870   \n",
       "2018-01-03 00:00:00-05:00  40.786712  41.264248  40.651963  40.715790   \n",
       "2018-01-04 00:00:00-05:00  40.789064  41.008922  40.680321  40.904903   \n",
       "2018-01-05 00:00:00-05:00  41.001839  41.458097  40.909642  41.370628   \n",
       "2018-01-08 00:00:00-05:00  41.216961  41.514828  41.117668  41.216961   \n",
       "\n",
       "                              Volume  Dividends  Stock Splits  \n",
       "Date                                                           \n",
       "2018-01-02 00:00:00-05:00  102223600        0.0           0.0  \n",
       "2018-01-03 00:00:00-05:00  118071600        0.0           0.0  \n",
       "2018-01-04 00:00:00-05:00   89738400        0.0           0.0  \n",
       "2018-01-05 00:00:00-05:00   94640000        0.0           0.0  \n",
       "2018-01-08 00:00:00-05:00   82271200        0.0           0.0  "
      ]
     },
     "execution_count": 4,
     "metadata": {},
     "output_type": "execute_result"
    }
   ],
   "source": [
    "filename = 'AppleData.csv'\n",
    "apple_df.to_csv(filename)\n",
    "apple_df.head()"
   ]
  },
  {
   "cell_type": "code",
   "execution_count": 5,
   "id": "d1d17b7c",
   "metadata": {},
   "outputs": [
    {
     "data": {
      "text/plain": [
       "Open            0\n",
       "High            0\n",
       "Low             0\n",
       "Close           0\n",
       "Volume          0\n",
       "Dividends       0\n",
       "Stock Splits    0\n",
       "dtype: int64"
      ]
     },
     "execution_count": 5,
     "metadata": {},
     "output_type": "execute_result"
    }
   ],
   "source": [
    "#checking for any missing values\n",
    "apple_df.isna().sum()"
   ]
  },
  {
   "cell_type": "code",
   "execution_count": 6,
   "id": "30deddd3",
   "metadata": {},
   "outputs": [
    {
     "data": {
      "text/html": [
       "<div>\n",
       "<style scoped>\n",
       "    .dataframe tbody tr th:only-of-type {\n",
       "        vertical-align: middle;\n",
       "    }\n",
       "\n",
       "    .dataframe tbody tr th {\n",
       "        vertical-align: top;\n",
       "    }\n",
       "\n",
       "    .dataframe thead th {\n",
       "        text-align: right;\n",
       "    }\n",
       "</style>\n",
       "<table border=\"1\" class=\"dataframe\">\n",
       "  <thead>\n",
       "    <tr style=\"text-align: right;\">\n",
       "      <th></th>\n",
       "      <th>Open</th>\n",
       "      <th>High</th>\n",
       "      <th>Low</th>\n",
       "      <th>Close</th>\n",
       "      <th>Volume</th>\n",
       "      <th>Dividends</th>\n",
       "      <th>Stock Splits</th>\n",
       "    </tr>\n",
       "  </thead>\n",
       "  <tbody>\n",
       "    <tr>\n",
       "      <th>count</th>\n",
       "      <td>1476.000000</td>\n",
       "      <td>1476.000000</td>\n",
       "      <td>1476.000000</td>\n",
       "      <td>1476.000000</td>\n",
       "      <td>1.476000e+03</td>\n",
       "      <td>1476.000000</td>\n",
       "      <td>1476.000000</td>\n",
       "    </tr>\n",
       "    <tr>\n",
       "      <th>mean</th>\n",
       "      <td>106.871192</td>\n",
       "      <td>108.115662</td>\n",
       "      <td>105.722295</td>\n",
       "      <td>106.974882</td>\n",
       "      <td>1.086126e+08</td>\n",
       "      <td>0.003386</td>\n",
       "      <td>0.002710</td>\n",
       "    </tr>\n",
       "    <tr>\n",
       "      <th>std</th>\n",
       "      <td>50.378502</td>\n",
       "      <td>50.928774</td>\n",
       "      <td>49.869864</td>\n",
       "      <td>50.426184</td>\n",
       "      <td>5.500393e+07</td>\n",
       "      <td>0.026495</td>\n",
       "      <td>0.104116</td>\n",
       "    </tr>\n",
       "    <tr>\n",
       "      <th>min</th>\n",
       "      <td>34.548391</td>\n",
       "      <td>34.965910</td>\n",
       "      <td>34.073286</td>\n",
       "      <td>34.118877</td>\n",
       "      <td>3.145820e+07</td>\n",
       "      <td>0.000000</td>\n",
       "      <td>0.000000</td>\n",
       "    </tr>\n",
       "    <tr>\n",
       "      <th>25%</th>\n",
       "      <td>51.576630</td>\n",
       "      <td>51.952122</td>\n",
       "      <td>51.054188</td>\n",
       "      <td>51.429579</td>\n",
       "      <td>7.276972e+07</td>\n",
       "      <td>0.000000</td>\n",
       "      <td>0.000000</td>\n",
       "    </tr>\n",
       "    <tr>\n",
       "      <th>50%</th>\n",
       "      <td>119.737141</td>\n",
       "      <td>121.289956</td>\n",
       "      <td>118.113714</td>\n",
       "      <td>119.476349</td>\n",
       "      <td>9.432060e+07</td>\n",
       "      <td>0.000000</td>\n",
       "      <td>0.000000</td>\n",
       "    </tr>\n",
       "    <tr>\n",
       "      <th>75%</th>\n",
       "      <td>149.340364</td>\n",
       "      <td>150.917661</td>\n",
       "      <td>147.759039</td>\n",
       "      <td>149.688763</td>\n",
       "      <td>1.295328e+08</td>\n",
       "      <td>0.000000</td>\n",
       "      <td>0.000000</td>\n",
       "    </tr>\n",
       "    <tr>\n",
       "      <th>max</th>\n",
       "      <td>195.717515</td>\n",
       "      <td>197.702207</td>\n",
       "      <td>194.760064</td>\n",
       "      <td>195.926956</td>\n",
       "      <td>4.265100e+08</td>\n",
       "      <td>0.240000</td>\n",
       "      <td>4.000000</td>\n",
       "    </tr>\n",
       "  </tbody>\n",
       "</table>\n",
       "</div>"
      ],
      "text/plain": [
       "              Open         High          Low        Close        Volume  \\\n",
       "count  1476.000000  1476.000000  1476.000000  1476.000000  1.476000e+03   \n",
       "mean    106.871192   108.115662   105.722295   106.974882  1.086126e+08   \n",
       "std      50.378502    50.928774    49.869864    50.426184  5.500393e+07   \n",
       "min      34.548391    34.965910    34.073286    34.118877  3.145820e+07   \n",
       "25%      51.576630    51.952122    51.054188    51.429579  7.276972e+07   \n",
       "50%     119.737141   121.289956   118.113714   119.476349  9.432060e+07   \n",
       "75%     149.340364   150.917661   147.759039   149.688763  1.295328e+08   \n",
       "max     195.717515   197.702207   194.760064   195.926956  4.265100e+08   \n",
       "\n",
       "         Dividends  Stock Splits  \n",
       "count  1476.000000   1476.000000  \n",
       "mean      0.003386      0.002710  \n",
       "std       0.026495      0.104116  \n",
       "min       0.000000      0.000000  \n",
       "25%       0.000000      0.000000  \n",
       "50%       0.000000      0.000000  \n",
       "75%       0.000000      0.000000  \n",
       "max       0.240000      4.000000  "
      ]
     },
     "execution_count": 6,
     "metadata": {},
     "output_type": "execute_result"
    }
   ],
   "source": [
    "apple_df.describe()"
   ]
  },
  {
   "cell_type": "code",
   "execution_count": 7,
   "id": "73e8234e",
   "metadata": {},
   "outputs": [
    {
     "data": {
      "text/plain": [
       "Index(['Open', 'High', 'Low', 'Close', 'Volume', 'Dividends', 'Stock Splits'], dtype='object')"
      ]
     },
     "execution_count": 7,
     "metadata": {},
     "output_type": "execute_result"
    }
   ],
   "source": [
    "apple_df.columns"
   ]
  },
  {
   "cell_type": "markdown",
   "id": "b8691600",
   "metadata": {},
   "source": [
    "## Changing the Date to datetime format"
   ]
  },
  {
   "cell_type": "code",
   "execution_count": 8,
   "id": "c1f0fecb",
   "metadata": {},
   "outputs": [
    {
     "name": "stdout",
     "output_type": "stream",
     "text": [
      "                                Open       High        Low      Close  \\\n",
      "Date                                                                    \n",
      "2018-01-02 00:00:00-05:00  40.226425  40.732328  40.013659  40.722870   \n",
      "2018-01-03 00:00:00-05:00  40.786712  41.264248  40.651963  40.715790   \n",
      "2018-01-04 00:00:00-05:00  40.789064  41.008922  40.680321  40.904903   \n",
      "2018-01-05 00:00:00-05:00  41.001839  41.458097  40.909642  41.370628   \n",
      "2018-01-08 00:00:00-05:00  41.216961  41.514828  41.117668  41.216961   \n",
      "\n",
      "                              Volume  Dividends  Stock Splits  \n",
      "Date                                                           \n",
      "2018-01-02 00:00:00-05:00  102223600        0.0           0.0  \n",
      "2018-01-03 00:00:00-05:00  118071600        0.0           0.0  \n",
      "2018-01-04 00:00:00-05:00   89738400        0.0           0.0  \n",
      "2018-01-05 00:00:00-05:00   94640000        0.0           0.0  \n",
      "2018-01-08 00:00:00-05:00   82271200        0.0           0.0  \n"
     ]
    }
   ],
   "source": [
    "\n",
    "apple_df.index = pd.to_datetime(apple_df.index)\n",
    "\n",
    "# Check the first few rows to confirm the conversion\n",
    "print(apple_df.head())"
   ]
  },
  {
   "cell_type": "code",
   "execution_count": 9,
   "id": "8f0759f1",
   "metadata": {},
   "outputs": [
    {
     "data": {
      "text/plain": [
       "0"
      ]
     },
     "execution_count": 9,
     "metadata": {},
     "output_type": "execute_result"
    }
   ],
   "source": [
    "apple_df.duplicated().sum()"
   ]
  },
  {
   "cell_type": "code",
   "execution_count": 11,
   "id": "bf335d95",
   "metadata": {},
   "outputs": [
    {
     "ename": "KeyError",
     "evalue": "\"None of ['Date'] are in the columns\"",
     "output_type": "error",
     "traceback": [
      "\u001b[0;31m---------------------------------------------------------------------------\u001b[0m",
      "\u001b[0;31mKeyError\u001b[0m                                  Traceback (most recent call last)",
      "\u001b[0;32m/var/folders/2z/_vny5h4508sd5tn7sxt5cy9m0000gn/T/ipykernel_33055/3468294927.py\u001b[0m in \u001b[0;36m?\u001b[0;34m()\u001b[0m\n\u001b[0;32m----> 1\u001b[0;31m \u001b[0mapple_df\u001b[0m\u001b[0;34m.\u001b[0m\u001b[0mset_index\u001b[0m\u001b[0;34m(\u001b[0m\u001b[0;34m'Date'\u001b[0m\u001b[0;34m,\u001b[0m\u001b[0minplace\u001b[0m \u001b[0;34m=\u001b[0m \u001b[0;32mTrue\u001b[0m\u001b[0;34m)\u001b[0m\u001b[0;34m\u001b[0m\u001b[0;34m\u001b[0m\u001b[0m\n\u001b[0m",
      "\u001b[0;32m~/anaconda3/envs/Tensorflow/lib/python3.11/site-packages/pandas/core/frame.py\u001b[0m in \u001b[0;36m?\u001b[0;34m(self, keys, drop, append, inplace, verify_integrity)\u001b[0m\n\u001b[1;32m   5869\u001b[0m                     \u001b[0;32mif\u001b[0m \u001b[0;32mnot\u001b[0m \u001b[0mfound\u001b[0m\u001b[0;34m:\u001b[0m\u001b[0;34m\u001b[0m\u001b[0;34m\u001b[0m\u001b[0m\n\u001b[1;32m   5870\u001b[0m                         \u001b[0mmissing\u001b[0m\u001b[0;34m.\u001b[0m\u001b[0mappend\u001b[0m\u001b[0;34m(\u001b[0m\u001b[0mcol\u001b[0m\u001b[0;34m)\u001b[0m\u001b[0;34m\u001b[0m\u001b[0;34m\u001b[0m\u001b[0m\n\u001b[1;32m   5871\u001b[0m \u001b[0;34m\u001b[0m\u001b[0m\n\u001b[1;32m   5872\u001b[0m         \u001b[0;32mif\u001b[0m \u001b[0mmissing\u001b[0m\u001b[0;34m:\u001b[0m\u001b[0;34m\u001b[0m\u001b[0;34m\u001b[0m\u001b[0m\n\u001b[0;32m-> 5873\u001b[0;31m             \u001b[0;32mraise\u001b[0m \u001b[0mKeyError\u001b[0m\u001b[0;34m(\u001b[0m\u001b[0;34mf\"None of {missing} are in the columns\"\u001b[0m\u001b[0;34m)\u001b[0m\u001b[0;34m\u001b[0m\u001b[0;34m\u001b[0m\u001b[0m\n\u001b[0m\u001b[1;32m   5874\u001b[0m \u001b[0;34m\u001b[0m\u001b[0m\n\u001b[1;32m   5875\u001b[0m         \u001b[0;32mif\u001b[0m \u001b[0minplace\u001b[0m\u001b[0;34m:\u001b[0m\u001b[0;34m\u001b[0m\u001b[0;34m\u001b[0m\u001b[0m\n\u001b[1;32m   5876\u001b[0m             \u001b[0mframe\u001b[0m \u001b[0;34m=\u001b[0m \u001b[0mself\u001b[0m\u001b[0;34m\u001b[0m\u001b[0;34m\u001b[0m\u001b[0m\n",
      "\u001b[0;31mKeyError\u001b[0m: \"None of ['Date'] are in the columns\""
     ]
    }
   ],
   "source": [
    "apple_df.set_index('Date',inplace = True)"
   ]
  },
  {
   "cell_type": "code",
   "execution_count": 13,
   "id": "2483e6f3",
   "metadata": {},
   "outputs": [],
   "source": [
    "apple_df.to_csv(\"Apple Cleaned Data.csv\", index=False)"
   ]
  },
  {
   "cell_type": "code",
   "execution_count": null,
   "id": "d49bf059",
   "metadata": {},
   "outputs": [],
   "source": []
  }
 ],
 "metadata": {
  "kernelspec": {
   "display_name": "Tensorflow",
   "language": "python",
   "name": "tensorflow"
  },
  "language_info": {
   "codemirror_mode": {
    "name": "ipython",
    "version": 3
   },
   "file_extension": ".py",
   "mimetype": "text/x-python",
   "name": "python",
   "nbconvert_exporter": "python",
   "pygments_lexer": "ipython3",
   "version": "3.11.5"
  }
 },
 "nbformat": 4,
 "nbformat_minor": 5
}
